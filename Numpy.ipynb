{
 "cells": [
  {
   "cell_type": "markdown",
   "metadata": {},
   "source": [
    "# Módulos en Python\n",
    "\n",
    "Algunas funciones especializadas de Python están organizadas en _módulos_ o paquetes. \n",
    "\n",
    "## _Numpy_\n",
    "\n",
    "Incluye funciones matemáticas y permite trabajar con arreglos numéricos multidimensionales (vectores, matrices, etc). Como cualquier otro módulo en Python, para poder utilziarlo debemos importarlo:"
   ]
  },
  {
   "cell_type": "code",
   "execution_count": 3,
   "metadata": {},
   "outputs": [
    {
     "name": "stdout",
     "output_type": "stream",
     "text": [
      "3.141592653589793\n"
     ]
    }
   ],
   "source": [
    "import numpy as np\n",
    "print(np.pi)"
   ]
  },
  {
   "cell_type": "markdown",
   "metadata": {},
   "source": [
    "De esta manera cada que necesitemos invocar una función de este módulo debemos usar la etiqueta __np.__ con la que hemos referido al módulo, por ejemplo:"
   ]
  },
  {
   "cell_type": "code",
   "execution_count": 2,
   "metadata": {},
   "outputs": [
    {
     "name": "stdout",
     "output_type": "stream",
     "text": [
      "3.141592653589793\n"
     ]
    }
   ],
   "source": [
    "print(np.pi)"
   ]
  },
  {
   "cell_type": "code",
   "execution_count": null,
   "metadata": {},
   "outputs": [],
   "source": [
    "np."
   ]
  },
  {
   "cell_type": "markdown",
   "metadata": {},
   "source": [
    "Por otra parte, existen diversas maneras de crear este arreglos multidimensionales. En particular para crear arreglos con todas las entradas iguales podemos usar el comando __ones__ (todas las entradas son 1) o __zeros__ (todas las entradas son 0). Estos comandos sólo requieren especificar el tamaño del arreglo.\n",
    "\n",
    "Ejemplos:"
   ]
  },
  {
   "cell_type": "code",
   "execution_count": 3,
   "metadata": {},
   "outputs": [
    {
     "name": "stdout",
     "output_type": "stream",
     "text": [
      "[0. 0. 0.]\n"
     ]
    }
   ],
   "source": [
    "A=np.zeros(3)\n",
    "print(A)"
   ]
  },
  {
   "cell_type": "code",
   "execution_count": 4,
   "metadata": {
    "scrolled": true
   },
   "outputs": [
    {
     "name": "stdout",
     "output_type": "stream",
     "text": [
      "[0.0, 0.0, 0.0, 0.0, 0.0, 0.0, 0.0, 0.0, 0.0]\n",
      "[0. 0. 0.]\n"
     ]
    }
   ],
   "source": [
    "L=[0.,0.,0.]\n",
    "\n",
    "print(L*3)\n",
    "print(A*3)"
   ]
  },
  {
   "cell_type": "code",
   "execution_count": 17,
   "metadata": {},
   "outputs": [
    {
     "name": "stdout",
     "output_type": "stream",
     "text": [
      "[[1. 1. 1. 1. 1.]\n",
      " [1. 1. 1. 1. 1.]\n",
      " [1. 1. 1. 1. 1.]]\n"
     ]
    }
   ],
   "source": [
    "B=np.ones((3,5))\n",
    "print(B)"
   ]
  },
  {
   "cell_type": "markdown",
   "metadata": {},
   "source": [
    "Podemos referirnos o reemplazar una entrada en particular utilizando un índice si se trata de un vector, o \"N\" índices si se trata de un arreglo N-dimensional:"
   ]
  },
  {
   "cell_type": "code",
   "execution_count": 18,
   "metadata": {},
   "outputs": [
    {
     "name": "stdout",
     "output_type": "stream",
     "text": [
      "[[ 1.   12.77  1.    1.    1.  ]\n",
      " [ 1.    1.    1.    1.    1.  ]\n",
      " [ 1.    1.    1.    1.    1.  ]]\n"
     ]
    }
   ],
   "source": [
    "B[0][1]=12.77\n",
    "print(B)"
   ]
  },
  {
   "cell_type": "markdown",
   "metadata": {},
   "source": [
    "Para generar vectores cuyas entradas contengan números equidistribuidos en un intervalo, tenemos dos opciones: __arange__ y __linspace__"
   ]
  },
  {
   "cell_type": "code",
   "execution_count": 19,
   "metadata": {},
   "outputs": [
    {
     "name": "stdout",
     "output_type": "stream",
     "text": [
      "[2.   2.53 3.06 3.59 4.12 4.65 5.18 5.71 6.24]\n"
     ]
    }
   ],
   "source": [
    "# np.arange( INICIO, COTA SUPERIOR, PASO)\n",
    "u=np.arange(2.0,6.7,0.53)\n",
    "print(u)"
   ]
  },
  {
   "cell_type": "code",
   "execution_count": 20,
   "metadata": {},
   "outputs": [
    {
     "name": "stdout",
     "output_type": "stream",
     "text": [
      "[0.  0.2 0.4 0.6 0.8 1. ]\n"
     ]
    }
   ],
   "source": [
    "# np.linspace(  INICIO, FIN, No. DE ENTRADAS)\n",
    "v=np.linspace(0,1,6)\n",
    "print(v)"
   ]
  },
  {
   "cell_type": "markdown",
   "metadata": {},
   "source": [
    "Otra manera de generar arreglos es escribiendo explícitamente sus entradas como si se tratara de una lista y posteriormente convertirla al tipo _array_. Ejemplo:"
   ]
  },
  {
   "cell_type": "code",
   "execution_count": 21,
   "metadata": {},
   "outputs": [
    {
     "name": "stdout",
     "output_type": "stream",
     "text": [
      "[1 2 3]\n"
     ]
    }
   ],
   "source": [
    "w=np.array([1,2,3])\n",
    "print(w)"
   ]
  },
  {
   "cell_type": "markdown",
   "metadata": {},
   "source": [
    "### Funciones\n",
    "\n",
    "El módulo _numpy_ incluye funciones como la exponencial, el logaritmo, raíz cuadrada, coseno, seno, tangente, etc. Al formar parte del módulo _numpy_ pueden tomar tanto números y arreglos como argumento."
   ]
  },
  {
   "cell_type": "code",
   "execution_count": 22,
   "metadata": {},
   "outputs": [
    {
     "name": "stdout",
     "output_type": "stream",
     "text": [
      "2.718281828459045\n",
      "[2.71828183 3.66929667 4.95303242 6.68589444]\n"
     ]
    }
   ],
   "source": [
    "a=1.0\n",
    "b=np.arange(1,2,0.3)\n",
    "print(np.exp(a))\n",
    "print(np.exp(b))"
   ]
  },
  {
   "cell_type": "code",
   "execution_count": 23,
   "metadata": {},
   "outputs": [
    {
     "name": "stdout",
     "output_type": "stream",
     "text": [
      "0.6931471805599453\n",
      "0.3010299956639812\n",
      "1.4142135623730951\n",
      "0.5403023058681398\n",
      "0.8414709848078965\n",
      "1.5574077246549023\n"
     ]
    }
   ],
   "source": [
    "print(np.log(2.0))\n",
    "print(np.log10(2.0))\n",
    "print(np.sqrt(2.0))\n",
    "print(np.cos(a))\n",
    "print(np.sin(a))\n",
    "print(np.tan(a))"
   ]
  },
  {
   "cell_type": "markdown",
   "metadata": {},
   "source": [
    "Expresiones más complicadas pueden escribirse utilizando paréntesis y composición de funciones, sin embargo si es una expresión que se utilizará de forma frecuentemente o depende de parámetros podemos definir nuestras propias funciones utilizando el comando __def__ y asignando un nombre a la función.\n",
    "\n",
    "Ejemplo:\n",
    "\n",
    "$$\\frac{a\\,(1-x)}{\\exp(a)}$$"
   ]
  },
  {
   "cell_type": "code",
   "execution_count": 26,
   "metadata": {},
   "outputs": [
    {
     "name": "stdout",
     "output_type": "stream",
     "text": [
      "-0.7357588823428847\n"
     ]
    }
   ],
   "source": [
    "#import numpy as np\n",
    "\n",
    "def mi_funcion(a,x):\n",
    "    return a*(1-x)/(np.exp(a))\n",
    "\n",
    "print(mi_funcion(1.0,3.0))"
   ]
  },
  {
   "cell_type": "markdown",
   "metadata": {},
   "source": [
    "Por último, _numpy_ también incluye funciones para multiplicar matrices, calcular el determinante, la inversa, traza y transpuesta de matrices, así como el producto punto entre vectores"
   ]
  },
  {
   "cell_type": "code",
   "execution_count": 27,
   "metadata": {},
   "outputs": [
    {
     "name": "stdout",
     "output_type": "stream",
     "text": [
      "[-8.  3.]\n"
     ]
    }
   ],
   "source": [
    "A=np.zeros((2,2))\n",
    "A[1][0]=1\n",
    "A[0][1]=-2\n",
    "\n",
    "b=np.array([3,4])\n",
    "\n",
    "x=np.matmul(A,b)\n",
    "print(x)"
   ]
  },
  {
   "cell_type": "code",
   "execution_count": 28,
   "metadata": {},
   "outputs": [
    {
     "name": "stdout",
     "output_type": "stream",
     "text": [
      "2.0\n",
      "[[ 0.   1. ]\n",
      " [-0.5 -0. ]]\n",
      "0.0\n",
      "[[ 0.  1.]\n",
      " [-2.  0.]]\n"
     ]
    }
   ],
   "source": [
    "# DETERMINANTE\n",
    "print(np.linalg.det(A))\n",
    "\n",
    "# INVERSA\n",
    "print(np.linalg.inv(A))\n",
    "\n",
    "# TRAZA\n",
    "print(np.trace(A))\n",
    "\n",
    "# TRANSPUESTA\n",
    "print(np.transpose(A))"
   ]
  },
  {
   "cell_type": "code",
   "execution_count": 29,
   "metadata": {},
   "outputs": [
    {
     "name": "stdout",
     "output_type": "stream",
     "text": [
      "25\n"
     ]
    }
   ],
   "source": [
    "# PRODUCTO PUNTO\n",
    "print(np.dot(b,b))"
   ]
  },
  {
   "cell_type": "code",
   "execution_count": 31,
   "metadata": {},
   "outputs": [],
   "source": [
    "from pylab import *"
   ]
  },
  {
   "cell_type": "code",
   "execution_count": 54,
   "metadata": {},
   "outputs": [
    {
     "data": {
      "image/png": "[encoded data removed]",
      "text/plain": [
       "<Figure size 432x288 with 1 Axes>"
      ]
     },
     "metadata": {},
     "output_type": "display_data"
    }
   ],
   "source": [
    "t=np.linspace(0,2*np.pi,30)\n",
    "y=np.sin(t)\n",
    "\n",
    "\n",
    "plot(t,y,'o',color=(0.5,1,0.9),label=r'$\\int \\cos$')\n",
    "grid(True)\n",
    "legend()\n",
    "title('grafica')\n",
    "\n",
    "savefig('./figura.png',fmt='png')\n",
    "show()"
   ]
  },
  {
   "cell_type": "markdown",
   "metadata": {},
   "source": [
    "## Módulo Random"
   ]
  },
  {
   "cell_type": "code",
   "execution_count": 5,
   "metadata": {},
   "outputs": [],
   "source": [
    "import random as rnd"
   ]
  },
  {
   "cell_type": "code",
   "execution_count": 58,
   "metadata": {},
   "outputs": [
    {
     "data": {
      "text/plain": [
       "5"
      ]
     },
     "execution_count": 58,
     "metadata": {},
     "output_type": "execute_result"
    }
   ],
   "source": [
    "rnd.choice(list(range(10)))"
   ]
  },
  {
   "cell_type": "code",
   "execution_count": 7,
   "metadata": {},
   "outputs": [
    {
     "name": "stdout",
     "output_type": "stream",
     "text": [
      "[9, 4, 2, 7, 3, 8, 1, 6, 5, 0]\n"
     ]
    }
   ],
   "source": [
    "l=list(range(10))\n",
    "a=rnd.shuffle(l,rnd.random)\n",
    "print(l)"
   ]
  },
  {
   "cell_type": "code",
   "execution_count": 72,
   "metadata": {},
   "outputs": [
    {
     "data": {
      "text/plain": [
       "1.3374119999752054"
      ]
     },
     "execution_count": 72,
     "metadata": {},
     "output_type": "execute_result"
    }
   ],
   "source": [
    "rnd.uniform(0,10)"
   ]
  },
  {
   "cell_type": "code",
   "execution_count": 79,
   "metadata": {},
   "outputs": [
    {
     "data": {
      "text/plain": [
       "3"
      ]
     },
     "execution_count": 79,
     "metadata": {},
     "output_type": "execute_result"
    }
   ],
   "source": [
    "rnd.randint(0,10)"
   ]
  },
  {
   "cell_type": "code",
   "execution_count": null,
   "metadata": {},
   "outputs": [],
   "source": []
  }
 ],
 "metadata": {
  "kernelspec": {
   "display_name": "Python 3",
   "language": "python",
   "name": "python3"
  },
  "language_info": {
   "codemirror_mode": {
    "name": "ipython",
    "version": 3
   },
   "file_extension": ".py",
   "mimetype": "text/x-python",
   "name": "python",
   "nbconvert_exporter": "python",
   "pygments_lexer": "ipython3",
   "version": "3.6.3"
  }
 },
 "nbformat": 4,
 "nbformat_minor": 2
}
