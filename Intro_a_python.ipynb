{
 "cells": [
  {
   "cell_type": "markdown",
   "metadata": {},
   "source": [
    "# Introducción a Python 3\n",
    "\n",
    "Python es un lenguaje de programación que se distingue por buscar una escritura clara y legible de su código. Una de las instrucciones más simples es __print__, la cual sirve para imprimir _en pantalla_.\n",
    "\n",
    "Ejemplo"
   ]
  },
  {
   "cell_type": "code",
   "execution_count": 1,
   "metadata": {},
   "outputs": [
    {
     "name": "stdout",
     "output_type": "stream",
     "text": [
      "hola mundo\n"
     ]
    }
   ],
   "source": [
    "print('hola mundo')"
   ]
  },
  {
   "cell_type": "markdown",
   "metadata": {},
   "source": [
    "hdsdosadcas dasdsadasdsadsad"
   ]
  },
  {
   "cell_type": "code",
   "execution_count": 1,
   "metadata": {},
   "outputs": [
    {
     "name": "stdout",
     "output_type": "stream",
     "text": [
      "2\n"
     ]
    }
   ],
   "source": [
    "print(1+1)"
   ]
  },
  {
   "cell_type": "markdown",
   "metadata": {},
   "source": [
    "Una manera equivalente es trabajar con _variables_, las cuales podemos pensar como contenedores donde guardamos información y referirnos a esta información mediante la etiqueta del contenedor, por ejemplo:"
   ]
  },
  {
   "cell_type": "code",
   "execution_count": null,
   "metadata": {},
   "outputs": [],
   "source": [
    "x='hola mundo'\n",
    "print(x)"
   ]
  },
  {
   "cell_type": "code",
   "execution_count": null,
   "metadata": {},
   "outputs": [],
   "source": [
    "a=1\n",
    "b=1\n",
    "print(a+b)"
   ]
  },
  {
   "cell_type": "markdown",
   "metadata": {},
   "source": [
    "En una variable podemos guardar contenidos de tipo numérico como enteros (_int_), flotantes (_float_) o complejos, o de tipo caracter o _string_ (_str_) si escribimos el contenido entre comillas.\n",
    "\n",
    "Ejemplo:"
   ]
  },
  {
   "cell_type": "code",
   "execution_count": 2,
   "metadata": {},
   "outputs": [
    {
     "name": "stdout",
     "output_type": "stream",
     "text": [
      "1 1.2345 (1+2j) hola\n"
     ]
    }
   ],
   "source": [
    "a=1\n",
    "b=1.2345\n",
    "c=1+2j\n",
    "d='hola'\n",
    "\n",
    "print(a,b,c,d)"
   ]
  },
  {
   "cell_type": "markdown",
   "metadata": {},
   "source": [
    "### Listas\n",
    "\n",
    "Además de estos tipos de variables, en Python podemos trabajar con agrupaciones ordenadas de objetos. Estas agrupaciones se conocen como __listas__ y son arreglos en los que podemos guardar diferentes tipos de variables u objetos. Para definir una lista debemos escribir entre corchetes los elementos que deseamos formen parte de la lista, además los elementos debe separase por comas. \n",
    "\n",
    "Ejemplo:"
   ]
  },
  {
   "cell_type": "code",
   "execution_count": 2,
   "metadata": {},
   "outputs": [
    {
     "name": "stdout",
     "output_type": "stream",
     "text": [
      "[1, 2, 3, 4, 'a', (1+2j), 'b']\n"
     ]
    }
   ],
   "source": [
    "L=[1,2,3,4,'a',1+2j,'b']\n",
    "print(L)"
   ]
  },
  {
   "cell_type": "markdown",
   "metadata": {},
   "source": [
    "Ciertos tipos de listas los podemos generar dinámicamente:\n",
    "\n",
    "#### 1 Listas de números enteros\n",
    "\n",
    "El comando __range( X )__ se refiere a un intervalo de números enteros entre 0 y X-1."
   ]
  },
  {
   "cell_type": "code",
   "execution_count": 3,
   "metadata": {},
   "outputs": [
    {
     "name": "stdout",
     "output_type": "stream",
     "text": [
      "range(0, 5)\n"
     ]
    }
   ],
   "source": [
    "l=range(5)\n",
    "print(l)"
   ]
  },
  {
   "cell_type": "markdown",
   "metadata": {},
   "source": [
    "Con ayuda del comando _range_ podemos generar una lista utilizando el comando __list( )__"
   ]
  },
  {
   "cell_type": "code",
   "execution_count": 4,
   "metadata": {},
   "outputs": [
    {
     "name": "stdout",
     "output_type": "stream",
     "text": [
      "[0, 1, 2, 3, 4]\n"
     ]
    }
   ],
   "source": [
    "L1=list(l)\n",
    "print(L1)"
   ]
  },
  {
   "cell_type": "markdown",
   "metadata": {},
   "source": [
    "Por otra parte, también podemos generar listas de números en otro intervalo y con diferente número de paso, es decir, no necesariamente números consecutivos:"
   ]
  },
  {
   "cell_type": "code",
   "execution_count": 5,
   "metadata": {},
   "outputs": [
    {
     "name": "stdout",
     "output_type": "stream",
     "text": [
      "range(4, 19, 3)\n",
      "[4, 7, 10, 13, 16]\n"
     ]
    }
   ],
   "source": [
    "# range( INICIO, FIN, PASO)\n",
    "R=range(4,19,3)\n",
    "print(R)\n",
    "L2=list(R)\n",
    "print(L2)"
   ]
  },
  {
   "cell_type": "markdown",
   "metadata": {},
   "source": [
    "\n",
    "#### 2 Listas de vacias\n",
    "\n",
    "Podemos generar una lista vacía omitiendo el contenido"
   ]
  },
  {
   "cell_type": "code",
   "execution_count": 6,
   "metadata": {},
   "outputs": [
    {
     "name": "stdout",
     "output_type": "stream",
     "text": [
      "[]\n"
     ]
    }
   ],
   "source": [
    "L3=[] # Lista vacia\n",
    "print(L3)"
   ]
  },
  {
   "cell_type": "markdown",
   "metadata": {},
   "source": [
    "Agregamos elementos a una lista (no necesariamente vacía) con la instrucción __append__:"
   ]
  },
  {
   "cell_type": "code",
   "execution_count": 7,
   "metadata": {},
   "outputs": [
    {
     "name": "stdout",
     "output_type": "stream",
     "text": [
      "[5, 'a']\n"
     ]
    }
   ],
   "source": [
    "L3=[]\n",
    "L3.append(5)\n",
    "L3.append('a')\n",
    "print(L3)"
   ]
  },
  {
   "cell_type": "markdown",
   "metadata": {},
   "source": [
    "\n",
    "#### 3 Concatenar listas\n",
    "\n",
    "Cuando el argumento son listas en lugar de números, el operador __+__ nos permite concatenar listas:"
   ]
  },
  {
   "cell_type": "code",
   "execution_count": 8,
   "metadata": {},
   "outputs": [
    {
     "name": "stdout",
     "output_type": "stream",
     "text": [
      "2\n",
      "[0, 1, 2, 3, 4, 0, 1, 2]\n"
     ]
    }
   ],
   "source": [
    "print(1+1)\n",
    "L=list(range(5))+list(range(3))\n",
    "print(list(L))"
   ]
  },
  {
   "cell_type": "markdown",
   "metadata": {},
   "source": [
    "El tamaño o número de elementos en una lista lo podemos conocer utilizando __len( )__:"
   ]
  },
  {
   "cell_type": "code",
   "execution_count": 9,
   "metadata": {},
   "outputs": [
    {
     "name": "stdout",
     "output_type": "stream",
     "text": [
      "8\n"
     ]
    }
   ],
   "source": [
    "print(len(L))"
   ]
  },
  {
   "cell_type": "markdown",
   "metadata": {},
   "source": [
    "Una de las ventajas de trabajar con listas es que, sin importar lo diverso que sea su contenido, podemos referirnos a cada elemento en la lista mediante la posición que ocupa comenzando la numeración desde 0. Ejemplo:"
   ]
  },
  {
   "cell_type": "code",
   "execution_count": 5,
   "metadata": {},
   "outputs": [
    {
     "name": "stdout",
     "output_type": "stream",
     "text": [
      "a\n",
      "c\n",
      "2\n"
     ]
    },
    {
     "data": {
      "text/plain": [
       "2"
      ]
     },
     "execution_count": 5,
     "metadata": {},
     "output_type": "execute_result"
    }
   ],
   "source": [
    "L=['a','b',1,'c',2]\n",
    "print(L[0])\n",
    "print(L[3])\n",
    "print(L[-1])\n",
    "L.index(1)"
   ]
  },
  {
   "cell_type": "markdown",
   "metadata": {},
   "source": [
    "# Estructuras de Control\n",
    "\n",
    "Son comandos y reglas que nos permiten modificar o controlar la manera en la que se ejecutan las instrucciones en el código.\n",
    "\n",
    "## Condicionales _if, else, elif_\n",
    "\n",
    "Un enunciado lógico determina la ejecución de un bloque de instrucciones.\n",
    "\n",
    "Ejemplo:"
   ]
  },
  {
   "cell_type": "code",
   "execution_count": 11,
   "metadata": {},
   "outputs": [
    {
     "name": "stdout",
     "output_type": "stream",
     "text": [
      "a es menor a 10\n"
     ]
    }
   ],
   "source": [
    "a=1\n",
    "\n",
    "if a<10:\n",
    "    print('a es menor a 10')\n",
    "    \n",
    "b=22\n",
    "\n",
    "if b<10:\n",
    "    print('b es menor a 10')"
   ]
  },
  {
   "cell_type": "markdown",
   "metadata": {},
   "source": [
    "Cuando necesitamos considerar dos posibles alternativas utilizamos __if__ y __else__.\n",
    "\n",
    "Ejemplo:"
   ]
  },
  {
   "cell_type": "code",
   "execution_count": 12,
   "metadata": {},
   "outputs": [
    {
     "name": "stdout",
     "output_type": "stream",
     "text": [
      "a es no negativo\n"
     ]
    }
   ],
   "source": [
    "a=4\n",
    "\n",
    "if a>=0:\n",
    "    print('a es no negativo')\n",
    "else:\n",
    "    print('a es negativo')"
   ]
  },
  {
   "cell_type": "markdown",
   "metadata": {},
   "source": [
    "Tres o más casos los podemos distinguir utilizando __if__, __elif__ y __else__.\n",
    "\n",
    "Ejemplo:"
   ]
  },
  {
   "cell_type": "code",
   "execution_count": 13,
   "metadata": {},
   "outputs": [
    {
     "name": "stdout",
     "output_type": "stream",
     "text": [
      "mayor a 1\n"
     ]
    }
   ],
   "source": [
    "a=5\n",
    "\n",
    "if a<0:\n",
    "    print('negativo')\n",
    "elif ((a>=0) and (a<=1)):\n",
    "    print('entre 0 y 1')\n",
    "else:\n",
    "    print('mayor a 1')"
   ]
  },
  {
   "cell_type": "markdown",
   "metadata": {},
   "source": [
    "## Ciclos con _while_\n",
    "\n",
    "Podemos repetir un bloque de instrucciones __mientras__ una condición lógica sea vedadera. Ejemplo:"
   ]
  },
  {
   "cell_type": "code",
   "execution_count": 14,
   "metadata": {},
   "outputs": [
    {
     "name": "stdout",
     "output_type": "stream",
     "text": [
      "0\n",
      "1\n",
      "2\n",
      "3\n",
      "4\n"
     ]
    }
   ],
   "source": [
    "a=0\n",
    "\n",
    "while a<5:\n",
    "    print(a)\n",
    "    a=a+1"
   ]
  },
  {
   "cell_type": "markdown",
   "metadata": {},
   "source": [
    "## Ciclos con _for_\n",
    "\n",
    "Repite un bloque de instrucciones una vez por cada elemento en una lista o rango. Ejemplo:"
   ]
  },
  {
   "cell_type": "code",
   "execution_count": 15,
   "metadata": {},
   "outputs": [
    {
     "name": "stdout",
     "output_type": "stream",
     "text": [
      "0\n",
      "1\n",
      "2\n",
      "3\n",
      "4\n",
      "5\n",
      "6\n",
      "7\n",
      "8\n",
      "9\n"
     ]
    }
   ],
   "source": [
    "for i in range(10):\n",
    "    print(i)"
   ]
  },
  {
   "cell_type": "code",
   "execution_count": 6,
   "metadata": {},
   "outputs": [
    {
     "name": "stdout",
     "output_type": "stream",
     "text": [
      "a\n",
      "1\n",
      "3\n",
      "b\n",
      "hecho\n"
     ]
    }
   ],
   "source": [
    "for i in ['a',1,3,'b']:\n",
    "    print(i)\n",
    "print('hecho')"
   ]
  },
  {
   "cell_type": "markdown",
   "metadata": {},
   "source": [
    "## Try / Except\n",
    "\n",
    "Se definen dos bloques de instrucciones, el primero se ellos (_try_) se ejecuta y si ocurre un error, se detiene y se ejecuta el segundo bloque (_except_). Ejemplo:"
   ]
  },
  {
   "cell_type": "code",
   "execution_count": 17,
   "metadata": {},
   "outputs": [
    {
     "name": "stdout",
     "output_type": "stream",
     "text": [
      "caracter no numerico\n"
     ]
    }
   ],
   "source": [
    "a='a'\n",
    "b=1\n",
    "\n",
    "try:\n",
    "    print(a+b)\n",
    "except:\n",
    "    print('caracter no numerico')"
   ]
  },
  {
   "cell_type": "markdown",
   "metadata": {},
   "source": [
    "## Aritmética con Python\n",
    "\n",
    "Las operaciones aritméticas básicas se implementan de la siguiente manera:"
   ]
  },
  {
   "cell_type": "code",
   "execution_count": 9,
   "metadata": {},
   "outputs": [
    {
     "name": "stdout",
     "output_type": "stream",
     "text": [
      "3\n",
      "6\n",
      "2.5\n",
      "36\n"
     ]
    }
   ],
   "source": [
    "# SUMA\n",
    "print(1+2)\n",
    "# PRODUCTO\n",
    "print(3*2)\n",
    "# COCIENTE\n",
    "print(5/2)\n",
    "# POTENCIA\n",
    "print(6**2)"
   ]
  },
  {
   "cell_type": "code",
   "execution_count": 7,
   "metadata": {},
   "outputs": [
    {
     "data": {
      "text/plain": [
       "[1, 2, 3, 4, 1, 2, 3, 4, 1, 2, 3, 4]"
      ]
     },
     "execution_count": 7,
     "metadata": {},
     "output_type": "execute_result"
    }
   ],
   "source": [
    "L=[1,2,3,4]\n",
    "\n",
    "L*3"
   ]
  },
  {
   "cell_type": "code",
   "execution_count": 8,
   "metadata": {},
   "outputs": [
    {
     "data": {
      "text/plain": [
       "0"
      ]
     },
     "execution_count": 8,
     "metadata": {},
     "output_type": "execute_result"
    }
   ],
   "source": [
    "6%2"
   ]
  },
  {
   "cell_type": "code",
   "execution_count": null,
   "metadata": {},
   "outputs": [],
   "source": []
  }
 ],
 "metadata": {
  "kernelspec": {
   "display_name": "Python 3",
   "language": "python",
   "name": "python3"
  },
  "language_info": {
   "codemirror_mode": {
    "name": "ipython",
    "version": 3
   },
   "file_extension": ".py",
   "mimetype": "text/x-python",
   "name": "python",
   "nbconvert_exporter": "python",
   "pygments_lexer": "ipython3",
   "version": "3.6.3"
  }
 },
 "nbformat": 4,
 "nbformat_minor": 2
}
